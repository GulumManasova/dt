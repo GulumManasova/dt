{
 "cells": [
  {
   "cell_type": "markdown",
   "id": "1a55451c",
   "metadata": {},
   "source": [
    "# Linear Regression\n",
    "Linear regression is a statistical method used to model the relationship between one or more independent variables (predictors) and a dependent variable (outcome). It assumes that the relationship between the independent and dependent variables is linear, meaning that changes in the independent variables are associated with constant changes in the dependent variable."
   ]
  },
  {
   "cell_type": "markdown",
   "id": "1b3cc261",
   "metadata": {},
   "source": [
    "## Regression Table\n",
    "The output from linear regression can be summarized in a regression table.\n",
    "\n",
    "The content of the table includes:\n",
    "\n",
    "Information about the model\n",
    "Coefficients of the linear regression function\n",
    "Regression statistics\n",
    "Statistics of the coefficients from the linear regression function\n",
    "Other information that we will not cover in this module"
   ]
  },
  {
   "cell_type": "code",
   "execution_count": 11,
   "id": "8a6d9a46",
   "metadata": {},
   "outputs": [
    {
     "name": "stdout",
     "output_type": "stream",
     "text": [
      "                            OLS Regression Results                            \n",
      "==============================================================================\n",
      "Dep. Variable:          writing_score   R-squared:                       0.911\n",
      "Model:                            OLS   Adj. R-squared:                  0.911\n",
      "Method:                 Least Squares   F-statistic:                 1.025e+04\n",
      "Date:                Sun, 21 Apr 2024   Prob (F-statistic):               0.00\n",
      "Time:                        23:50:58   Log-Likelihood:                -2928.4\n",
      "No. Observations:                1000   AIC:                             5861.\n",
      "Df Residuals:                     998   BIC:                             5871.\n",
      "Df Model:                           1                                         \n",
      "Covariance Type:            nonrobust                                         \n",
      "=================================================================================\n",
      "                    coef    std err          t      P>|t|      [0.025      0.975]\n",
      "---------------------------------------------------------------------------------\n",
      "Intercept        -0.6676      0.694     -0.962      0.336      -2.029       0.694\n",
      "reading_score     0.9935      0.010    101.233      0.000       0.974       1.013\n",
      "==============================================================================\n",
      "Omnibus:                        2.031   Durbin-Watson:                   1.970\n",
      "Prob(Omnibus):                  0.362   Jarque-Bera (JB):                2.094\n",
      "Skew:                           0.092   Prob(JB):                        0.351\n",
      "Kurtosis:                       2.871   Cond. No.                         343.\n",
      "==============================================================================\n",
      "\n",
      "Notes:\n",
      "[1] Standard Errors assume that the covariance matrix of the errors is correctly specified.\n"
     ]
    }
   ],
   "source": [
    "import pandas as pd \n",
    "import statsmodels.formula.api as smf  \n",
    "\n",
    "\n",
    "df = pd.read_csv(\"study_performance.csv\", header=0, sep=\",\")\n",
    "\n",
    "# Creating OLS regression model\n",
    "model = smf.ols('writing_score ~ reading_score', data=df)\n",
    "\n",
    "# Fitting model and storing results\n",
    "results = model.fit()\n",
    "print(results.summary())\n",
    "\n"
   ]
  },
  {
   "cell_type": "markdown",
   "id": "16adb61d",
   "metadata": {},
   "source": [
    "## The \"Information Part\" in Regression Table\n",
    "\n",
    "Dep. Variable: is short for \"Dependent Variable\". writing score is here the dependent variable. The Dependent variable is here assumed to be explained by reading_score.\n",
    "Model: OLS is short for Ordinary Least Squares. This is a type of model that uses the Least Square method.\n",
    "Date: and Time: shows the date and time the output was calculated in Python.\n"
   ]
  },
  {
   "cell_type": "markdown",
   "id": "e1f0dfa8",
   "metadata": {},
   "source": [
    "## The \"Coefficients Part\" in Regression Table\n",
    "Intercept (-0.6676): The base level of writing score when reading score is zero. However, this might not be practically meaningful.\n",
    "Reading Score (0.9935): For every one-point increase in reading score, the writing score is estimated to increase by approximately 0.9935 points.\n",
    "Remember that the intercept is used to adjust the model's precision of predicting!\n",
    "\n",
    "The linear regression function can be rewritten mathematically as:"
   ]
  },
  {
   "cell_type": "code",
   "execution_count": null,
   "id": "6c987fe2",
   "metadata": {},
   "outputs": [],
   "source": [
    "writing_score=0.9935*reading_score+(-0.6676)"
   ]
  },
  {
   "cell_type": "markdown",
   "id": "b9b11e45",
   "metadata": {},
   "source": [
    "### Define the Linear Regression Function in Python\n",
    "Define the linear regression function in Python to perform predictions.\n",
    "\n",
    "What is Calorie_Burnage if Average_Pulse is: 120, 130, 150, 180?"
   ]
  },
  {
   "cell_type": "code",
   "execution_count": 14,
   "id": "d73dcdf7",
   "metadata": {},
   "outputs": [
    {
     "name": "stdout",
     "output_type": "stream",
     "text": [
      "9.2674\n",
      "19.2024\n",
      "29.1374\n",
      "39.0724\n"
     ]
    }
   ],
   "source": [
    "def Predict_writing_score(reading_score):\n",
    " return(0.9935*reading_score+(-0.6676))\n",
    " \n",
    "#Try some different values:\n",
    "print(Predict_writing_score(10))\n",
    "print(Predict_writing_score(20))\n",
    "print(Predict_writing_score(30))\n",
    "print(Predict_writing_score(40))\n"
   ]
  },
  {
   "cell_type": "markdown",
   "id": "54034004",
   "metadata": {},
   "source": [
    "## The \"Statistics of the Coefficients Part\" in Regression Table\n",
    "There are four components that explains the statistics of the coefficients:\n",
    "\n",
    "std err stands for Standard Error\n",
    "t is the \"t-value\" of the coefficients\n",
    "P>|t| is called the \"P-value\"\n",
    " [0.025  0.975] represents the confidence interval of the coefficients\n",
    " \n",
    "## The P-value \n",
    "\n",
    "\n",
    "The P-value checks if there's a strong connection between Average_Pulse and Calorie_Burnage.\n",
    "If it's small (< 0.05), there's likely a link. \n",
    "If it's large (> 0.05), probably no important connection.\n",
    "\n",
    "We test two ideas: no connection (null hypothesis) and a connection (alternative hypothesis). \n",
    "For Average_Pulse, null is \"no connection (Average_Pulse = 0)\" and alternative is \"connection (Average_Pulse ≠ 0).\"\n",
    "\n",
    "Small P-value means we reject no connection. Large P-value means we're not sure.\n",
    "\n",
    "With a P-value of 0.824 for Average_Pulse, it's large.\n",
    "So, we can't confidently say there's a connection between Average_Pulse and Calorie_Burnage.\n",
    "We don't worry much about the intercept's P-value—it helps prediction, not relationship between variables.\n"
   ]
  },
  {
   "cell_type": "markdown",
   "id": "79a5fa43",
   "metadata": {},
   "source": [
    "## R - Squared\n",
    "R-Squared and Adjusted R-Squared describes how well the linear regression model fits the data points\n",
    "\n",
    "The value of R-Squared is always between 0 to 1 (0% to 100%).\n",
    "\n",
    "A high R-Squared value means that many data points are close to the linear regression function line.\n",
    "A low R-Squared value means that the linear regression function line does not fit the data well."
   ]
  },
  {
   "cell_type": "code",
   "execution_count": 25,
   "id": "a6f39f03",
   "metadata": {},
   "outputs": [
    {
     "name": "stdout",
     "output_type": "stream",
     "text": [
      "R-squared for Writing Score: 0.9112574888913136\n",
      "R-squared for Reading Score: 0.9112574888913139\n"
     ]
    }
   ],
   "source": [
    "import pandas as pd\n",
    "import statsmodels.api as sm\n",
    "\n",
    "# Read data\n",
    "df = pd.read_csv(\"study_performance.csv\", header=0, sep=\",\")\n",
    "\n",
    "# Calculate R-squared for writing_score\n",
    "results_writing = sm.OLS(df['writing_score'], sm.add_constant(df['reading_score'])).fit()\n",
    "r_squared_writing = results_writing.rsquared\n",
    "\n",
    "# Calculate R-squared for reading_score\n",
    "results_reading = sm.OLS(df['reading_score'], sm.add_constant(df['writing_score'])).fit()\n",
    "r_squared_reading = results_reading.rsquared\n",
    "\n",
    "print(\"R-squared for Writing Score:\", r_squared_writing)\n",
    "print(\"R-squared for Reading Score:\", r_squared_reading)\n"
   ]
  },
  {
   "cell_type": "code",
   "execution_count": 26,
   "id": "beeb77c8",
   "metadata": {},
   "outputs": [
    {
     "name": "stdout",
     "output_type": "stream",
     "text": [
      "P-value for Writing Score: 0.0\n",
      "P-value for Reading Score: 0.0\n"
     ]
    }
   ],
   "source": [
    "import pandas as pd\n",
    "import statsmodels.api as sm\n",
    "\n",
    "# Read data\n",
    "df = pd.read_csv(\"study_performance.csv\", header=0, sep=\",\")\n",
    "\n",
    "# Calculate p-value for writing_score\n",
    "results_writing = sm.OLS(df['writing_score'], sm.add_constant(df['reading_score'])).fit()\n",
    "p_value_writing = results_writing.pvalues['reading_score']\n",
    "\n",
    "# Calculate p-value for reading_score\n",
    "results_reading = sm.OLS(df['reading_score'], sm.add_constant(df['writing_score'])).fit()\n",
    "p_value_reading = results_reading.pvalues['writing_score']\n",
    "\n",
    "print(\"P-value for Writing Score:\", p_value_writing)\n",
    "print(\"P-value for Reading Score:\", p_value_reading)\n"
   ]
  },
  {
   "cell_type": "code",
   "execution_count": 27,
   "id": "d3c2612c",
   "metadata": {},
   "outputs": [
    {
     "name": "stdout",
     "output_type": "stream",
     "text": [
      "Coefficient for Writing Score: 0.9935311142409599\n",
      "Coefficient for Reading Score: 0.9171906906886349\n"
     ]
    }
   ],
   "source": [
    "import pandas as pd\n",
    "import statsmodels.api as sm\n",
    "\n",
    "# Read data\n",
    "df = pd.read_csv(\"study_performance.csv\", header=0, sep=\",\")\n",
    "\n",
    "# Calculate coefficient for writing_score\n",
    "results_writing = sm.OLS(df['writing_score'], sm.add_constant(df['reading_score'])).fit()\n",
    "coefficient_writing = results_writing.params['reading_score']\n",
    "\n",
    "# Calculate coefficient for reading_score\n",
    "results_reading = sm.OLS(df['reading_score'], sm.add_constant(df['writing_score'])).fit()\n",
    "coefficient_reading = results_reading.params['writing_score']\n",
    "\n",
    "print(\"Coefficient for Writing Score:\", coefficient_writing)\n",
    "print(\"Coefficient for Reading Score:\", coefficient_reading)\n"
   ]
  },
  {
   "cell_type": "code",
   "execution_count": 29,
   "id": "aa949eed",
   "metadata": {},
   "outputs": [
    {
     "name": "stdout",
     "output_type": "stream",
     "text": [
      "Regression Info for Writing Score:\n",
      "=================================================================================\n",
      "                    coef    std err          t      P>|t|      [0.025      0.975]\n",
      "---------------------------------------------------------------------------------\n",
      "const            -0.6676      0.694     -0.962      0.336      -2.029       0.694\n",
      "reading_score     0.9935      0.010    101.233      0.000       0.974       1.013\n",
      "=================================================================================\n",
      "\n",
      "Regression Info for Reading Score:\n",
      "=================================================================================\n",
      "                    coef    std err          t      P>|t|      [0.025      0.975]\n",
      "---------------------------------------------------------------------------------\n",
      "const             6.7505      0.632     10.685      0.000       5.511       7.990\n",
      "writing_score     0.9172      0.009    101.233      0.000       0.899       0.935\n",
      "=================================================================================\n"
     ]
    }
   ],
   "source": [
    "import pandas as pd\n",
    "import statsmodels.api as sm\n",
    "\n",
    "# Read data\n",
    "df = pd.read_csv(\"study_performance.csv\", header=0, sep=\",\")\n",
    "\n",
    "# Regression info for writing_score\n",
    "X_writing = sm.add_constant(df['reading_score'])\n",
    "model_writing = sm.OLS(df['writing_score'], X_writing)\n",
    "results_writing = model_writing.fit()\n",
    "print(\"Regression Info for Writing Score:\")\n",
    "print(results_writing.summary().tables[1])\n",
    "\n",
    "# Regression info for reading_score\n",
    "X_reading = sm.add_constant(df['writing_score'])\n",
    "model_reading = sm.OLS(df['reading_score'], X_reading)\n",
    "results_reading = model_reading.fit()\n",
    "print(\"\\nRegression Info for Reading Score:\")\n",
    "print(results_reading.summary().tables[1])\n"
   ]
  },
  {
   "cell_type": "code",
   "execution_count": 31,
   "id": "5aaaff8a",
   "metadata": {},
   "outputs": [
    {
     "name": "stdout",
     "output_type": "stream",
     "text": [
      "Writing Score Linear Regression:\n",
      "Slope: 0.9935311142409595\n",
      "Intercept: -0.6675536409329226\n",
      "\n",
      "Reading Score Linear Regression:\n",
      "Slope: 0.9171906906886339\n",
      "Intercept: 6.750504735875701\n"
     ]
    }
   ],
   "source": [
    "import pandas as pd\n",
    "from scipy.stats import linregress\n",
    "\n",
    "# Read data\n",
    "df = pd.read_csv(\"study_performance.csv\", header=0, sep=\",\")\n",
    "\n",
    "# Perform linear regression for writing_score\n",
    "slope_writing, intercept_writing, _, _, _ = linregress(df['reading_score'], df['writing_score'])\n",
    "print(\"Writing Score Linear Regression:\")\n",
    "print(\"Slope:\", slope_writing)\n",
    "print(\"Intercept:\", intercept_writing)\n",
    "\n",
    "# Perform linear regression for reading_score\n",
    "slope_reading, intercept_reading, _, _, _ = linregress(df['writing_score'], df['reading_score'])\n",
    "print(\"\\nReading Score Linear Regression:\")\n",
    "print(\"Slope:\", slope_reading)\n",
    "print(\"Intercept:\", intercept_reading)\n"
   ]
  },
  {
   "cell_type": "code",
   "execution_count": null,
   "id": "59728e1c",
   "metadata": {},
   "outputs": [],
   "source": []
  }
 ],
 "metadata": {
  "kernelspec": {
   "display_name": "Python 3 (ipykernel)",
   "language": "python",
   "name": "python3"
  },
  "language_info": {
   "codemirror_mode": {
    "name": "ipython",
    "version": 3
   },
   "file_extension": ".py",
   "mimetype": "text/x-python",
   "name": "python",
   "nbconvert_exporter": "python",
   "pygments_lexer": "ipython3",
   "version": "3.11.5"
  }
 },
 "nbformat": 4,
 "nbformat_minor": 5
}
