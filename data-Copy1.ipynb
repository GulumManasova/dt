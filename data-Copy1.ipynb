{
 "cells": [
  {
   "cell_type": "markdown",
   "id": "ffcc0978",
   "metadata": {},
   "source": [
    "1. Handling Missing Data Questions:\n",
    "\n",
    "How do you identify and handle missing values in a Pandas DataFrame?\n",
    "What is imputation, and why might it be useful in dealing with missing data?\n"
   ]
  },
  {
   "cell_type": "markdown",
   "id": "077c5727",
   "metadata": {},
   "source": [
    "Checking for missing values using isnull() and notnull()\n",
    "In order to check missing values in Pandas DataFrame, we use a function isnull() and notnull(). Both function help in checking whether a value is NaN or not. These function can also be used in Pandas Series in order to find null values in a series."
   ]
  },
  {
   "cell_type": "code",
   "execution_count": null,
   "id": "2ee4ba23",
   "metadata": {},
   "outputs": [],
   "source": []
  }
 ],
 "metadata": {
  "kernelspec": {
   "display_name": "Python 3 (ipykernel)",
   "language": "python",
   "name": "python3"
  },
  "language_info": {
   "codemirror_mode": {
    "name": "ipython",
    "version": 3
   },
   "file_extension": ".py",
   "mimetype": "text/x-python",
   "name": "python",
   "nbconvert_exporter": "python",
   "pygments_lexer": "ipython3",
   "version": "3.11.5"
  }
 },
 "nbformat": 4,
 "nbformat_minor": 5
}
